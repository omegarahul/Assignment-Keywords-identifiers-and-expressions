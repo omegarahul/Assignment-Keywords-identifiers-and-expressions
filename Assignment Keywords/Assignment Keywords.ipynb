{
 "cells": [
  {
   "cell_type": "markdown",
   "id": "53afe4d4-7f06-48c2-b4f0-84f89b7fab2f",
   "metadata": {},
   "source": [
    "# Q1. Explain the significance of Python keywords and provide examples of five keywords."
   ]
  },
  {
   "cell_type": "markdown",
   "id": "93305412-dfc6-4c80-b369-0148f6db4c6d",
   "metadata": {},
   "source": [
    "### Ans. In Python keywords are those , which are reserved and already defined in Python. \n",
    "### Those can't be used as a variable in Python. five examples are:\n",
    "### 1. Print, 2. if , 3. else , 4. for , 5. while\n"
   ]
  },
  {
   "cell_type": "markdown",
   "id": "a9e2a72f-214a-484f-abb2-c9d2c6a93160",
   "metadata": {},
   "source": [
    "# Q2. Describe the rules for defining identifiers in Python and provide an example."
   ]
  },
  {
   "cell_type": "markdown",
   "id": "4c55c8f3-3cbf-42cf-8e8e-54255a1182a5",
   "metadata": {
    "tags": []
   },
   "source": [
    "### Identifiers used to name given to any variable, class, function etc.  Following are the rules for defining an identifier\n",
    "### Identifier must be start with alphabet or underscore(_)\n",
    "### Identifier could be a combination of alphabet, numeric(0-9) and underscore(_).\n",
    "### Keywords can't be used as an identifier.\n",
    "### No spetial character allowed except underscore(_)\n",
    "### Example: Marks"
   ]
  },
  {
   "cell_type": "markdown",
   "id": "e7cbba7a-0e73-4cd8-b654-7a8d7aae7f0d",
   "metadata": {},
   "source": [
    "# Q3. What are comments in Python, and why are they useful? provide an example."
   ]
  },
  {
   "cell_type": "markdown",
   "id": "581b3691-e1c9-4e2f-b3c5-16667a29ec8d",
   "metadata": {},
   "source": [
    "### Comments are those part of code, which not excecute at run time, but it share details about the code or any part of code written by author. It shows the details which author wants to explain to the editor or reader which reading the code. Comments are mention by two method. 1 st is by adding # in start.2 nd by wrote any part inside the triple quotes \"\"\" \"\"\"."
   ]
  },
  {
   "cell_type": "code",
   "execution_count": 2,
   "id": "86ae034a-8d19-49ad-8365-e0bfd3da549e",
   "metadata": {},
   "outputs": [],
   "source": [
    "# I mentioning this comment in fulfillement of question no. 3"
   ]
  },
  {
   "cell_type": "markdown",
   "id": "2d70c126-c0fc-40ed-b59e-8b1d23a97966",
   "metadata": {},
   "source": [
    "# Q4. Why is proper indentation important in Python?"
   ]
  },
  {
   "cell_type": "markdown",
   "id": "d19b986e-f08a-416b-9845-88d30966fc4d",
   "metadata": {},
   "source": [
    "### In Python, indentation denotes that these line of code are the part of specific block of code like: if, else, for loop, while loop. In indentation, generally it takes 4 space before line of code for one indentation."
   ]
  },
  {
   "cell_type": "markdown",
   "id": "642c61b7-eba3-4ba4-80c0-cfae7e09b682",
   "metadata": {},
   "source": [
    "# Q5. What happens if indentation is incorrect in Python?"
   ]
  },
  {
   "cell_type": "code",
   "execution_count": 4,
   "id": "99f5d8f8-662d-49b9-9844-50d06767e7e3",
   "metadata": {},
   "outputs": [
    {
     "name": "stdout",
     "output_type": "stream",
     "text": [
      "P\n",
      "W\n",
      "S\n",
      "k\n",
      "i\n",
      "l\n",
      "l\n",
      "s\n"
     ]
    }
   ],
   "source": [
    "# For this let we take a for loop and once indent it right and once wrong\n",
    "name = \"PWSkills\"\n",
    "for i in name:\n",
    "    print(i)"
   ]
  },
  {
   "cell_type": "code",
   "execution_count": 11,
   "id": "f3ceecee-0f6a-4159-9cad-b101d40e6953",
   "metadata": {},
   "outputs": [
    {
     "ename": "IndentationError",
     "evalue": "expected an indented block after 'for' statement on line 1 (2594211603.py, line 2)",
     "output_type": "error",
     "traceback": [
      "\u001b[0;36m  Cell \u001b[0;32mIn[11], line 2\u001b[0;36m\u001b[0m\n\u001b[0;31m    print(i)\u001b[0m\n\u001b[0m    ^\u001b[0m\n\u001b[0;31mIndentationError\u001b[0m\u001b[0;31m:\u001b[0m expected an indented block after 'for' statement on line 1\n"
     ]
    }
   ],
   "source": [
    "for i in name:\n",
    "print(i)"
   ]
  },
  {
   "cell_type": "markdown",
   "id": "e26af226-9c29-4e02-8196-4edad276da64",
   "metadata": {},
   "source": [
    "# Q6. Differentiate between expression and statement in Python with examples."
   ]
  },
  {
   "cell_type": "markdown",
   "id": "c62a1b10-e465-45c8-9081-508a4b57c568",
   "metadata": {},
   "source": [
    "### A statement is not evaluate anything, It just like defining a variable. for ex:\n",
    "a = 250,\n",
    "\n",
    "print(a)\n",
    "### While in expression there is identifiers, operators and operents. For ex:\n",
    "a = 20 #This is a statement,\n",
    "\n",
    "a = a+10 #This is an expression"
   ]
  },
  {
   "cell_type": "code",
   "execution_count": null,
   "id": "205592b2-52d5-4706-b461-97a2167a6013",
   "metadata": {},
   "outputs": [],
   "source": []
  }
 ],
 "metadata": {
  "kernelspec": {
   "display_name": "Python 3 (ipykernel)",
   "language": "python",
   "name": "python3"
  },
  "language_info": {
   "codemirror_mode": {
    "name": "ipython",
    "version": 3
   },
   "file_extension": ".py",
   "mimetype": "text/x-python",
   "name": "python",
   "nbconvert_exporter": "python",
   "pygments_lexer": "ipython3",
   "version": "3.10.8"
  }
 },
 "nbformat": 4,
 "nbformat_minor": 5
}
